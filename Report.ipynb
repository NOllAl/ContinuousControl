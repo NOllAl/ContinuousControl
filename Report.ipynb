{
 "cells": [
  {
   "cell_type": "markdown",
   "metadata": {},
   "source": [
    "# Learning Algorithm\n",
    "\n",
    "We use [Deep Deterministic Policy Gradient (DDGP)](https://arxiv.org/abs/1509.02971) to solve this environment. It is an extension of DQN to continuous action space. The fundamental idea is to have two networks, an **actor** and a **critic**. The actor predicts which action to take, given a state $s$. The critic is basically the value function.\n",
    "\n",
    "## Hyperparameters\n",
    "\n",
    "We choose the following hyperparameters:\n",
    "\n",
    "+ Both the actor and the critic are two-layer neural networks with 300 hidden units in each.\n",
    "+ Relu activation functions are used in both\n",
    "+ Adam optimizer is used with a learning rate of 1e-3 for the critic and 1e-4 for the actor.\n",
    "+ The discount factor $\\gamma$ is set to 0.99\n",
    "+ The soft target update parater $\\tau$ is set to 1e-3\n",
    "+ L2 weight decay of the critic was set to 0.0001\n",
    "+ Batch size was set to 64\n",
    "+ The gradient was updated every second step\n",
    "+ A normal distribution was used to add randomness to the Ornstein-Uhlenbeck process.\n",
    "\n",
    "In the code cell below, we perform the training. The weights are saved as well."
   ]
  },
  {
   "cell_type": "code",
   "execution_count": 1,
   "metadata": {},
   "outputs": [
    {
     "name": "stdout",
     "output_type": "stream",
     "text": [
      "Actor(\n",
      "  (fc1): Linear(in_features=33, out_features=300, bias=True)\n",
      "  (fc2): Linear(in_features=300, out_features=300, bias=True)\n",
      "  (fc3): Linear(in_features=300, out_features=4, bias=True)\n",
      ")\n",
      "----------------------------------------------------------------\n",
      "        Layer (type)               Output Shape         Param #\n",
      "================================================================\n",
      "            Linear-1                  [-1, 300]          10,200\n",
      "            Linear-2                  [-1, 300]          90,300\n",
      "            Linear-3                    [-1, 4]           1,204\n",
      "================================================================\n",
      "Total params: 101,704\n",
      "Trainable params: 101,704\n",
      "Non-trainable params: 0\n",
      "----------------------------------------------------------------\n",
      "Input size (MB): 0.00\n",
      "Forward/backward pass size (MB): 0.00\n",
      "Params size (MB): 0.39\n",
      "Estimated Total Size (MB): 0.39\n",
      "----------------------------------------------------------------\n",
      "Critic(\n",
      "  (fcs1): Linear(in_features=33, out_features=400, bias=True)\n",
      "  (fc2): Linear(in_features=404, out_features=300, bias=True)\n",
      "  (fc3): Linear(in_features=300, out_features=1, bias=True)\n",
      ")\n",
      "SEED: 0\n"
     ]
    },
    {
     "name": "stderr",
     "output_type": "stream",
     "text": [
      "INFO:unityagents:\n",
      "'Academy' started successfully!\n",
      "Unity Academy name: Academy\n",
      "        Number of Brains: 1\n",
      "        Number of External Brains : 1\n",
      "        Lesson number : 0\n",
      "        Reset Parameters :\n",
      "\t\tgoal_size -> 5.0\n",
      "\t\tgoal_speed -> 1.0\n",
      "Unity brain name: ReacherBrain\n",
      "        Number of Visual Observations (per agent): 0\n",
      "        Vector Observation space type: continuous\n",
      "        Vector Observation space size (per agent): 33\n",
      "        Number of stacked Vector Observation: 1\n",
      "        Vector Action space type: continuous\n",
      "        Vector Action space size (per agent): 4\n",
      "        Vector Action descriptions: , , , \n"
     ]
    },
    {
     "name": "stdout",
     "output_type": "stream",
     "text": [
      "Episode 160\tAverage Score: 30.21\tScore: 36.14"
     ]
    }
   ],
   "source": [
    "import matplotlib.pyplot as plt\n",
    "import numpy as np\n",
    "import torch\n",
    "import environment, agent, model\n",
    "from collections import deque\n",
    "\n",
    "\n",
    "def train(environment, agent, n_episodes=1000, max_t=1000,\n",
    "          solve_score=30.0,\n",
    "          graph_when_done=True):\n",
    "    \"\"\" Run training loop for DQN.\n",
    "\n",
    "    Params\n",
    "    ======\n",
    "        environment: environment object\n",
    "        agent: agent object\n",
    "        n_episodes (int): maximum number of training episodes\n",
    "        max_t (int): maximum number of timesteps per episode\n",
    "        solve_score (float): criteria for considering the environment solved\n",
    "        graph_when_done (bool): whether to show matplotlib graphs of the training run\n",
    "    \"\"\"\n",
    "    \n",
    "    scores_deque = deque(maxlen=100)\n",
    "    scores = []\n",
    "\n",
    "    for i_episode in range(1, n_episodes+1):\n",
    "        rewards = []\n",
    "        state = environment.reset()\n",
    "        # loop over steps\n",
    "        for t in range(max_t):\n",
    "            # select an action\n",
    "            action = agent.act(state)\n",
    "            # take action in environment\n",
    "            next_state, reward, done = environment.step(action)\n",
    "            # update agent with returned information\n",
    "            agent.step(state, action, reward, next_state, done)\n",
    "            state = next_state\n",
    "            rewards.append(reward)\n",
    "            if any(done):\n",
    "                break\n",
    "        \n",
    "        # every episode\n",
    "        buffer_len = len(agent.memory)\n",
    "        per_agent_rewards = []  # calculate per agent rewards\n",
    "        for i in range(agent.n_agents):\n",
    "            per_agent_reward = 0\n",
    "            for step in rewards:\n",
    "                per_agent_reward += step[i]\n",
    "            per_agent_rewards.append(per_agent_reward)\n",
    "        \n",
    "        score = np.mean(per_agent_rewards)\n",
    "        scores_deque.append(score)\n",
    "        scores.append(score)\n",
    "        \n",
    "        print('\\rEpisode {}\\tAverage Score: {:.2f}\\tScore: {:.2f}'.format(i_episode, np.mean(scores_deque), score), end=\"\")\n",
    "\n",
    "        # if solved\n",
    "        if i_episode > 100 and np.mean(scores_deque) >= 30:\n",
    "            torch.save(agent.actor_local.state_dict(), 'checkpoints/solved.actor.pth')\n",
    "            torch.save(agent.critic_local.state_dict(), 'checkpoints/solved.critic.pth')\n",
    "            break\n",
    "\n",
    "    return scores\n",
    "\n",
    "\n",
    "model = model.CriticTwoTimes()\n",
    "agent = agent.DDPG(model)\n",
    "\n",
    "environment = environment.UnityMLVectorMultiAgent()\n",
    "\n",
    "scores = train(environment=environment, agent=agent)"
   ]
  },
  {
   "cell_type": "markdown",
   "metadata": {},
   "source": [
    "We plot the rewards as function of the episode:"
   ]
  },
  {
   "cell_type": "code",
   "execution_count": 2,
   "metadata": {},
   "outputs": [
    {
     "data": {
      "image/png": "[encoded data removed]",
      "text/plain": [
       "<Figure size 432x288 with 1 Axes>"
      ]
     },
     "metadata": {
      "needs_background": "light"
     },
     "output_type": "display_data"
    }
   ],
   "source": [
    "fig = plt.figure()\n",
    "ax = fig.add_subplot(111)\n",
    "plt.plot(np.arange(1, len(scores)+1), scores)\n",
    "plt.ylabel('Score')\n",
    "plt.xlabel('Episode')\n",
    "plt.show()"
   ]
  },
  {
   "cell_type": "markdown",
   "metadata": {},
   "source": [
    "## Ideas for Improvement\n",
    "\n",
    "Other enhancements that I did not have time to explore but may yield promising results:\n",
    "+ There are other algorithms that could be used, like [PPO](https://arxiv.org/abs/1707.06347). \n",
    "+ As in the [navigation project](https://github.com/NOllAl/NavigationDeepRL) we could use prioritized experience replay. \n",
    "+ Use Bayesian optimization to find the best hyperparameters and speed up training further."
   ]
  }
 ],
 "metadata": {
  "kernelspec": {
   "display_name": "Python 3",
   "language": "python",
   "name": "python3"
  },
  "language_info": {
   "codemirror_mode": {
    "name": "ipython",
    "version": 3
   },
   "file_extension": ".py",
   "mimetype": "text/x-python",
   "name": "python",
   "nbconvert_exporter": "python",
   "pygments_lexer": "ipython3",
   "version": "3.6.7"
  }
 },
 "nbformat": 4,
 "nbformat_minor": 2
}
